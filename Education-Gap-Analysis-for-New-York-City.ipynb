{
 "cells": [
  {
   "cell_type": "raw",
   "id": "8b9908eb",
   "metadata": {},
   "source": [
    "---\n",
    "title: \"The Evaluation of Education Equity in NYC\"\n",
    "author: \"Ju-Eun Kim\"\n",
    "date: \"April 19, 2021\"\n",
    "output:\n",
    "  html_document:\n",
    "    df_print: paged\n",
    "  pdf_document: default\n",
    "---"
   ]
  },
  {
   "cell_type": "code",
   "execution_count": null,
   "id": "25613222",
   "metadata": {
    "name": "setup",
    "tags": [
     "remove_cell"
    ]
   },
   "outputs": [],
   "source": [
    "knitr::opts_chunk$set(echo = TRUE)"
   ]
  },
  {
   "cell_type": "code",
   "execution_count": null,
   "id": "e39e6172",
   "metadata": {
    "lines_to_next_cell": 0,
    "tags": [
     "remove_cell"
    ]
   },
   "outputs": [],
   "source": [
    "library(tidyr)\n",
    "library(tidyverse)\n",
    "library(dplyr)\n",
    "library(reshape2)"
   ]
  },
  {
   "cell_type": "markdown",
   "id": "377d92f7",
   "metadata": {},
   "source": [
    "`*` indicates: For more information, refer to Appendix.\n",
    "\n",
    "# Abstract\n",
    "\n",
    "The SAT scores determine the education quality of a school. There has been lots of effort in the US for education equality. Using the SAT score of New York City, the results of the education policy for education equity will be examined. The data is collected from public schools in the 2014-15 school year with variables such as race, the average score of different categories of the exam, and region in NYC. The levelled education will have a low to no gap between the scores. A confidence interval of 95% will be used to examine the SAT result data. The result will determine if the policies were helpful for a better education environment. If the null hypothesis, stating there is no difference in SAT scores between regions, the NYC Department of Education has successfully made the education equity. They may continue with the existing policy. On the other hand, if significant differences were shown, new approaches will be required.\n",
    "\n",
    "# Introduction\n",
    "\n",
    "The SAT is a standardized test used for university admission in the United States (Khandelwal, 2021). It stands for the Scholastic Aptitude Test, which measures essential skills required for academic success (Schalkwyk, 2011). High school students typically take the SAT for admissions to universities in the US. The score of students represents the education quality of each school. The difference in the average score of SAT between schools indirectly indicates that there exists a difference in education quality. The SAT scores gap occurred due to the racial discrepancies, poverty and the region they live in, such as Manhattan, Bronx, or Brooklyn. To reduce the education gap, the government has worked for a better environment for all students to learn. The students also participated in strikes and took action to make a difference in education (Conley, 2019). They argue that the students should not be limited to get education on race, sex, religion, or disability (Conley, 2019)\n",
    "\n",
    "SAT scores can be used to examine how education equality has been accomplished while the education department in NYC worked for improvement. The research question is: Was the current effort effective enough to reduce the education quality? If it was more successful, the average score between different regions or races should have a lower score gap. The data that will be used is from Kaggle, `Average SAT Scores for NYC Public Schools`. It is from the 2014-15 school year.  It includes various variables such as school name, city, phone number, student enrollment, percent White, Black, Hispanic and Asian, and average score (SAT Math, Reading, and Writing). \n",
    "\n",
    "The education department but also the students tried for improvement for education equity. The hypothesis is that education equity is accomplished in NYC. The SAT score between regions will not be significant anymore. The SAT result data will be explored to test the hypothesis using the given variables. The result will be essential to examine if the government will need a new policy or continue with the current policy for a better learning environment."
   ]
  },
  {
   "cell_type": "markdown",
   "id": "e8d130d8",
   "metadata": {},
   "source": [
    "# Data\n",
    "\n",
    "The data is from Kaggle, `Average SAT Scores for NYC Public Schools`. It has the variables of SAT scores of different categories, races, addresses, phone numbers and more. However, there are few crucial variables, and the irrelevant or unnecessary data will be cleaned out. The key variables that show a direct relationship to the score will be used for the analysis."
   ]
  },
  {
   "cell_type": "code",
   "execution_count": null,
   "id": "833060b6",
   "metadata": {
    "tags": [
     "remove_cell"
    ]
   },
   "outputs": [],
   "source": [
    "library(readr)\n",
    "scores <- read_csv(\"/home/jovyan/STA238/STA238 Final Project/scores.csv\")\n",
    "View(scores)"
   ]
  },
  {
   "cell_type": "code",
   "execution_count": null,
   "id": "8aed21bc",
   "metadata": {
    "tags": [
     "remove_cell"
    ]
   },
   "outputs": [],
   "source": [
    "scores_df <- scores %>% select(`School ID`, City, `Percent White`, `Percent Black`, `Percent Hispanic`, `Percent Asian`, `Average Score (SAT Math)`, `Average Score (SAT Reading)`, `Average Score (SAT Writing)`)"
   ]
  },
  {
   "cell_type": "markdown",
   "id": "ce16337d",
   "metadata": {
    "lines_to_next_cell": 0
   },
   "source": [
    "## Key Variables\n",
    "\n",
    "The key variables are introduced in the section. The `City` is an important variable used to compare the education equity between different regions in NYC. The four variables that give the racial demographic will be used how the education level differs based on the race. It will examine if certain races are getting a better education. If the result shows no difference in score based on race, it will prove that the education levelling has successfully done. Lastly, each category of scores' average scores is the key that will help determine if the education equity has been accomplished. The scores are the direct evidence that evaluates the education policies in NYC explicitly.\n",
    "\n",
    "The schools that do not provide enough information will be removed from the analysis while they can cause bias on the result."
   ]
  },
  {
   "cell_type": "code",
   "execution_count": null,
   "id": "1c7948d3",
   "metadata": {
    "tags": [
     "remove_cell"
    ]
   },
   "outputs": [],
   "source": [
    "scores_df <- scores_df %>% drop_na()\n",
    "\n",
    "glimpse(scores_df)"
   ]
  },
  {
   "cell_type": "markdown",
   "id": "a1bcf07a",
   "metadata": {
    "lines_to_next_cell": 0
   },
   "source": [
    "The new variables are created for more efficient analysis in this process. The new variable, the total score, will be added to the primary data. The total SAT score, the sum of math, writing, and reading, will be helpful for comparison. The total SAT score was out of 2400 in the school year 2014-15."
   ]
  },
  {
   "cell_type": "code",
   "execution_count": null,
   "id": "977d1ab3",
   "metadata": {
    "tags": [
     "remove_cell"
    ]
   },
   "outputs": [],
   "source": [
    "scores_df <- scores_df %>% mutate(Total_score = (`Average Score (SAT Math)`+ `Average Score (SAT Reading)`+ `Average Score (SAT Writing)`))"
   ]
  },
  {
   "cell_type": "markdown",
   "id": "55cd67b0",
   "metadata": {
    "lines_to_next_cell": 0
   },
   "source": [
    "The overall education level of NYC is also essential to interpret before the education is divided into a `city`. The education department should aim to hit the average of the overall US means of SAT score. \n",
    "\n",
    "The numerical summary is created using the total score of SAT. It seems there is a significant difference between the maximum and the minimum score. They both might be an outlier, but it is still critical to consider all the values."
   ]
  },
  {
   "cell_type": "code",
   "execution_count": null,
   "id": "10def6a0",
   "metadata": {
    "tags": [
     "remove_input"
    ]
   },
   "outputs": [],
   "source": [
    "scores_df %>% summarise(min = min(Total_score), mean = mean(Total_score), median = median(Total_score), max = max(Total_score), sd = sd(Total_score))"
   ]
  },
  {
   "cell_type": "markdown",
   "id": "c7b94d73",
   "metadata": {},
   "source": [
    "The distribution can be visualized using the box plot below. It summarizes the distribution of SAT total score quantitively using five statistics. The middle line represents the median of the score. The first edge of the box and the last edge of the box represent 25% and 75% of each data value. The data defined in points are the outliers of the score. From this boxplot, the upper outliers were found more that there are outstanding schools that perform better than the median schools.\n",
    "Also, it shows that the mean of the score will be higher than the median. It indicates that more than half of the students perform worse than the mean of the total NYC SAT score. It indirectly states that there are apparent gaps between education accomplishments."
   ]
  },
  {
   "cell_type": "code",
   "execution_count": null,
   "id": "c66ea04e",
   "metadata": {
    "tags": [
     "remove_input"
    ]
   },
   "outputs": [],
   "source": [
    "scores_df %>% ggplot(data=scores_df, mapping = aes(x = \"\", y =Total_score)) +\n",
    "  geom_boxplot() + theme_light()"
   ]
  },
  {
   "cell_type": "markdown",
   "id": "a31211fb",
   "metadata": {
    "lines_to_next_cell": 0
   },
   "source": [
    "The comparison will be mainly made based on the city in NYC. This step creates a new data frame using the mean of each city (region). Twenty-five cities in NYC may all have different education levels."
   ]
  },
  {
   "cell_type": "code",
   "execution_count": null,
   "id": "c03ea891",
   "metadata": {
    "tags": [
     "remove_cell"
    ]
   },
   "outputs": [],
   "source": [
    "percent <- function(x){  # to change all the values to numerical from percentage\n",
    "  x_replace_pct<-sub(\"%\", \"\", x)\n",
    "  x_as_numeric<-as.numeric(x_replace_pct)\n",
    "  }\n",
    "scores_df[['Percent White']] = percent(scores_df[['Percent White']])\n",
    "scores_df[['Percent Black']] = percent(scores_df[['Percent Black']])\n",
    "scores_df[['Percent Hispanic']] = percent(scores_df[['Percent Hispanic']])\n",
    "scores_df[['Percent Asian']] = percent(scores_df[['Percent Asian']])"
   ]
  },
  {
   "cell_type": "code",
   "execution_count": null,
   "id": "61c5d8cf",
   "metadata": {
    "tags": [
     "remove_input"
    ]
   },
   "outputs": [],
   "source": [
    "city_df <- scores_df %>% group_by(City) %>% summarize(mean_White = mean(`Percent White`), mean_Black = mean(`Percent Black`), mean_Hispanic = mean(`Percent Hispanic`), mean_Asian = mean(`Percent Asian`), mean_math = mean(`Average Score (SAT Math)`), mean_reading = mean(`Average Score (SAT Reading)`), mean_writing = mean(`Average Score (SAT Writing)`), mean_total = mean(Total_score) )\n",
    "\n",
    "glimpse(city_df)"
   ]
  },
  {
   "cell_type": "markdown",
   "id": "c343fa09",
   "metadata": {
    "lines_to_next_cell": 0
   },
   "source": [
    "The mean of each city is represented in the bar graph below. The `mean_total` represents the mean total score of SAT in each city. The gap between the lowest and the highest score of each region has decreased than comparing the individual schools. It seems reasonable to test the education levelling was done successfully between NYC regions."
   ]
  },
  {
   "cell_type": "code",
   "execution_count": null,
   "id": "77cdaa69",
   "metadata": {
    "tags": [
     "remove_input"
    ]
   },
   "outputs": [],
   "source": [
    "city_df %>% ggplot(data=city_df, mapping = aes(x=City, y=mean_total)) + geom_bar(stat=\"identity\", width=0.5, fill=\"steelblue\")+\n",
    "  theme_minimal() + coord_flip()"
   ]
  },
  {
   "cell_type": "markdown",
   "id": "82938a49",
   "metadata": {},
   "source": [
    "The distribution of race can be visualized. According to the previous research, \"Race gaps in SAT scores highlight inequality and hinder upward mobility,\" it states that the higher Asian student rates lead to the higher SAT average school score (Reeves and Halikias, 2017). In contrast, the Black and Latino tended to have a lower average SAT scores (Reeves and Halikias, 2017). The graph below is generated to show the racial demographic."
   ]
  },
  {
   "cell_type": "code",
   "execution_count": null,
   "id": "6f388968",
   "metadata": {
    "tags": [
     "remove_input"
    ]
   },
   "outputs": [],
   "source": [
    "race <- melt(city_df[,c('City','mean_White','mean_Black','mean_Hispanic', 'mean_Asian')],id.vars = 1)\n",
    "\n",
    "ggplot(race,aes(x = variable,y = value)) + \n",
    "    geom_bar(aes(fill = variable),stat = \"identity\",position = \"dodge\") + facet_wrap(~City) + \n",
    "  theme(axis.text.x=element_blank(), axis.text = element_text( size = 5)) + scale_y_continuous(name=\"Race Demographics (percentage)\") + \n",
    "  scale_x_discrete(name=\"Race\") "
   ]
  },
  {
   "cell_type": "markdown",
   "id": "0162f9d7",
   "metadata": {},
   "source": [
    "Mostly, in all the cities, black students were the majority, with some exceptions. However, the other race distributions were not uniform. Before the in-depth analysis, it is essential to recognize that the race demographic varies in all the cities.\n",
    "\n",
    "## Package Reference \n",
    "The project was programmed using `R version 1.2.5042`. \n",
    "\n",
    "Hadley Wickham (2007). Reshaping Data with the reshape Package.\n",
    "  Journal of Statistical Software, 21(12), 1-20. URL\n",
    "  http://www.jstatsoft.org/v21/i12/.\n",
    "  \n",
    "Hadley Wickham, Romain François, Lionel Henry and Kirill Müller\n",
    "  (2021). dplyr: A Grammar of Data Manipulation.\n",
    "  https://dplyr.tidyverse.org, https://github.com/tidyverse/dplyr.\n",
    "\n",
    "Hadley Wickham (2021). tidyr: Tidy Messy Data.\n",
    "  https://tidyr.tidyverse.org, https://github.com/tidyverse/tidyr.\n",
    "  \n",
    "Wickham et al., (2019). Welcome to the tidyverse. Journal of Open\n",
    "  Source Software, 4(43), 1686, https://doi.org/10.21105/joss.01686"
   ]
  },
  {
   "cell_type": "code",
   "execution_count": null,
   "id": "7d049da8",
   "metadata": {
    "tags": [
     "remove_cell"
    ]
   },
   "outputs": [],
   "source": [
    "citation(\"tidyr\")\n",
    "citation(\"tidyverse\")\n",
    "citation(\"dplyr\")\n",
    "citation(\"reshape2\")"
   ]
  },
  {
   "cell_type": "markdown",
   "id": "5f4769bd",
   "metadata": {},
   "source": [
    "# Methods\n",
    "\n",
    "This section will introduce the statistical approach to the SAT data that cleaned from the previous section. Various methods will be used to examine if the current education policies are helpful for education equity for students in NYC.\n",
    "\n",
    "## Part 1. Bayesian Credible Interval\n",
    "\n",
    "Suppose the education equity was accomplished. The score distribution should be almost symmetrical. Therefore, the probability of the schools’ average being higher than the total mean of SAT score and the probability of the school’s average being less than the mean SAT score should be the same. The simplification was made by dividing schools into only two groups, better or worse than the average. To examine this binomial problem, the beta a prior distribution will be used. \n",
    "\n",
    "The beta distribution’s domain is bounded between 0 and 1. It has two parameters, `a` and `b`. The parameter `a` is the ratio of successes, and `b` is the ratio of failures (Dekking, 2005). \n",
    "\n",
    "They can manipulate the shape of the beta distribution. The prior distribution, beta, measures how confident the parameters before seeing the SAT score results, that $\\theta$ is near the centre of its possible values (Dekking, 2005).\n",
    "\n",
    "The prior distribution is beta (12,12), where the parameters a=12 and b=12 are chosen. Therefore, while $a=b$, the probability of picking the school with the higher score than the average and the lower score than the average is the same.\n",
    "\n",
    "*Refer to the Appendix for the details.\n",
    "\n",
    "The shape below represents the prior distribution."
   ]
  },
  {
   "cell_type": "code",
   "execution_count": null,
   "id": "dcf3696c",
   "metadata": {
    "tags": [
     "remove_input"
    ]
   },
   "outputs": [],
   "source": [
    "data_frame(x = c(0,1)) %>%\n",
    "  ggplot(aes(x = x)) +\n",
    "  theme_classic() + \n",
    "  stat_function(fun = dbeta,\n",
    "                args = list(shape1 = 12,shape2 = 12),\n",
    "                colour = \"blue\") +\n",
    "  labs(title = \"Beta Prior for Theta\",\n",
    "       subtitle = \"Evaluating SAT score \",\n",
    "       x = \"Theta\",\n",
    "       y = \"Prior Density, p(Theta)\") +\n",
    "  scale_x_continuous(breaks = seq(0,1,by=0.1))"
   ]
  },
  {
   "cell_type": "markdown",
   "id": "4014e500",
   "metadata": {
    "lines_to_next_cell": 0
   },
   "source": [
    "The prior probability is 0.957104."
   ]
  },
  {
   "cell_type": "code",
   "execution_count": null,
   "id": "b0025390",
   "metadata": {
    "tags": [
     "remove_cell"
    ]
   },
   "outputs": [],
   "source": [
    "result <- pbeta(0.7,shape1=12,shape2=12) - pbeta(0.3,shape1=12,shape2=12)"
   ]
  },
  {
   "cell_type": "markdown",
   "id": "402414ad",
   "metadata": {},
   "source": [
    "The prior distribution is determined to be the beta distribution. The posterior distribution can be driven using the prior distribution.\n",
    "$$P(\\theta|X) = \\frac{P(X|\\theta)P(\\theta)}{P(X)}$$\n",
    "\n",
    "* Refer to the Appendix for the detailed derivation.\n",
    "\n",
    "Using the posterior, the 95% credible interval will be calculated. It will help to assume how confident we are on the hypothesis that half of the school performs better on SAT than the average."
   ]
  },
  {
   "cell_type": "markdown",
   "id": "655a7d92",
   "metadata": {},
   "source": [
    "## Part 2. Goodness of Fit Test\n",
    "The goodness of fit test will be used to be more precise and advanced from the previous examination. In Bayesian credible interval, the assumption was simply made that the Education Equity was successful and the probability of having schools that obtained the higher average than the overall SAT score the US-wide. \n",
    "\n",
    "However, in this case, the actual data will be used to examine if the data fit on the binomial distribution, with the probability of $\\frac{1}{2}$. The mean of SAT US-wide will be used to see the overall NYC performance compared to the other regions in the US. Also, to know the education distribution within NYC, the mean of NYC's SAT score will be used as well. If the mean is close to the median, the schools are trying to improve the quality of education. The mean SAT score in NYC is 1275.907. Using the given data, the number of schools with a higher grade than the mean will be found. The mean of the SAT US-wide was 1497 in the 2014-15 school year (Anderson, 2014).\n",
    "\n",
    "The Chi-squared test will be used. The Chi-square goodness of fit test determines if sample data fit the distribution (Dekking, 2005). It can be used for discrete distributions, such as binomial distribution (Dekking, 2005). The null and alternative hypotheses will be found. The null hypothesis, $H_0$, claims that the distribution of SAT score fits the data, and the alternative hypothesis, $H_A$, claims that the distribution does not fit the data. Then the test statistics will be calculated for p-value. The p-values are the probability of observing that stat of something more extreme (Dekking, 2005). Using the p-value, the decision will be made either to reject or not reject the null hypothesis.\n",
    "\n",
    "The Chi-square goodness of fit test has an assumption:\n",
    "The data needs to have independent observations (Gibbs and Stringer, 2021).\n"
   ]
  },
  {
   "cell_type": "markdown",
   "id": "38f87c94",
   "metadata": {},
   "source": [
    "## Part 3. Hypothesis Test of the Mean\n",
    "In this section, the hypothesis test of the mean will be done. The mean of the NYC, Manhattan will be compared with the school in Bronx's mean score. They are the two regions with the most school that will have more students enrolled in the NYC education.\n",
    "\n",
    "The assumption is that the data (the SAT scores) are independently and identically distributed (Gibbs and Stringer, 2021).\n",
    "\n",
    "First, the hypothesis is stated. The null hypothesis is that the mean of Manhattan's SAT is the same as the random Bronx's mean of SAT.$$H_0: \\mu_b = \\mu_m$$\n",
    "The alternative hypothesis is that they do not equal to each other. $$H_0: \\mu_b \\neq \\mu_m$$.\n",
    "\n",
    "Then, the data of SAT score will be used to find a test statistic and p-value. For the test statistic, the distribution of the SAT score is assumed to be distributed normally. \n",
    "The test statistic can be used using the formula: $$\\frac{\\bar{X}-\\mu}{\\sigma/\\sqrt{n}}$$\n",
    "The p-value is the probability of observing the test statistic (Dekking, 2005).\n",
    "\n",
    "After calculating the p-value, the decision will be made.\n",
    "Suppose the p-value is small, usually less than 0.05, the evidence against $H_0$. Then the null hypothesis would be rejected.\n",
    "If the p-value is significantly large, usually larger than 0.05, there is no evidence against $H_0$. Then the null hypothesis would not be rejected.\n",
    "\n",
    "The errors could be made depending on the result.\n",
    "When the null hypothesis is rejected when $H_0$ is true, it is a type 1 error (Dekking, 2005). In contrast, when the null hypothesis is not rejected when $H_A$ is true, it is called the type 2 error (Dekking, 2005). "
   ]
  },
  {
   "cell_type": "markdown",
   "id": "cc97ce4d",
   "metadata": {},
   "source": [
    "## Part 4. Confidence Interval\n",
    "In this section, a confidence interval will be used to examine the research question once again. The cleaned data does not have all the schools in New York City. For example, some schools did not provide some sections of SAT scores. It might be misleading only to consider a small number of samples. Therefore, the bootstrap method will be used. It draws 1000 bootstrap samples of size n with replacement from the original sample. For each bootstrap sample, the statistic will be calculated.  \n",
    "\n",
    "The SAT score data collected from observations are assumed to be from an independent and identically distributed population.\n",
    "\n",
    "The empirical bootstrapping method is chosen because the dataset is given randomly in this case. The parametric bootstrapping method deals with the known distribution, which is not appropriate for this analysis.\n",
    "\n",
    "The first step is to generate the dataset from the original data set. Then, the studentized mean (centred sample mean) for bootstrap will be calculated many times (Dekking, 2005). The simulation will be done using r.\n",
    "\n",
    "The population mean of SAT score of 2014-15 school year was 1497 nationwide in the US (Anderson, 2014). If the education equality was successful, all the mean of NYC regions should be similar to the nationwide average score. "
   ]
  },
  {
   "cell_type": "markdown",
   "id": "63ee05e5",
   "metadata": {},
   "source": [
    "## Part 5. Maximum Likelihood Estimator Calculation\n",
    "Maximum likelihood is choosing the parameter in such as way that the data are most likely. In this case, the mean will be a parameter of interest (Dekking, 2005).\n",
    "\n",
    "The goal is to find the maximum likelihood estimate that maximizes the likelihood function. The maximum likelihood estimator will be noted as $\\theta$ (Dekking, 2005).\n",
    "\n",
    "If the education equity has been successfully accomplished, there will be a normal distribution of the SAT score. The students who can score the average on the test will be the most. Only a few students can achieve the extremely high or low score given that the same education is done to all students in NYC.\n",
    "\n",
    "The score dataset will be the continuous distribution, following the normal distribution. The assumption is that the data are independent and identically distributed random variables (Gibbs and Stringer, 2021).\n",
    "\n",
    "The parameter or the normal distribution is $$x \\sim N(1275.907, 194.9063^2)$$\n",
    "Mean and the variance was obtained in the previous (`data`) section.\n",
    "\n",
    "* MLE formula derivation is included in the Appendix.\n",
    "\n",
    "The maximum likelihood estimate can be found after finding the maximum likelihood function. The score that is most likely to be obtained by the students in NYC can be calculated.\n",
    "\n",
    "## Part 6. Linear Regression Method\n",
    "The linear regression model will be used to identify any direct relationship in the data. The simple linear regression model will be used. The dataset is bivariate with independent and dependent variables (Dekking, 2005). \n",
    "\n",
    "The percentage of the race, which is the independent variable, is non-random and the SAT scores are the realization of random variables. The equation is $Y_i = \\alpha + \\beta x_i + U_i$ for $i=1,2,...,n$. The error term, $U_i$ are independent random variable. The expectation of the error term is 0 and the variance will be $\\sigma^2$. $\\alpha$ represents the intercept and $\\beta$ represents the slope.\n",
    "\n",
    "Linear regression will help provide if there is any relationship between the SAT score and the race. Will including more of the particular race lead to higher or to lower ACT average? \n",
    "\n",
    "This is helpful because if the race demographics do not matter, no matter what percentage of racial is the majority of the school, the linear regression slope will be flat, rather than positive or negative slope. If there's a strong correlation (both positive and negative), it indicates that race is one of the factors that determine the education level. In this case, rather than dividing into the different regions, the entire NYC will be observed with total SAT scores. The data provides four different races, and the linear regression will be done four times.\n"
   ]
  },
  {
   "cell_type": "markdown",
   "id": "b2f2135e",
   "metadata": {
    "lines_to_next_cell": 0
   },
   "source": [
    "# Results\n",
    "In this section, the results of the statistical analyses will be delivered. The results of the six different methodologies are included in the report. Also, the interpretation of the result will be discussed.\n",
    "\n",
    "## Part 1. Bayesian Credible Interval\n",
    "The posterior distribution is driven in the `method` section and will be used.\n",
    "There are approximately 400 schools in NYC. Therefore, n = 400 will be used for different cases of the score distribution."
   ]
  },
  {
   "cell_type": "code",
   "execution_count": null,
   "id": "2c52c768",
   "metadata": {
    "tags": [
     "remove_input"
    ]
   },
   "outputs": [],
   "source": [
    "prior <- function(theta) dbeta(theta,shape1 = 12,shape2 = 12)\n",
    "posterior <- function(theta,sumx,n) dbeta(theta,shape1 = 12 + sumx,shape2 = 12 + n - sumx)\n",
    "\n",
    "data_frame(x = c(0.01,0.99)) %>%\n",
    "  ggplot(aes(x = x)) +\n",
    "  theme_classic() + \n",
    "  stat_function(fun = prior,\n",
    "                colour = \"black\") +\n",
    "  stat_function(fun = posterior,\n",
    "                args = list(sumx = 300,n = 400),\n",
    "                colour = \"purple\") +\n",
    "  stat_function(fun = posterior,\n",
    "                args = list(sumx = 200,n = 400),\n",
    "                colour = \"red\") +\n",
    "  stat_function(fun = posterior,\n",
    "                args = list(sumx = 100,n = 400),\n",
    "                colour = \"green\") +\n",
    "  stat_function(fun = posterior,\n",
    "                args = list(sumx = 400,n = 400),\n",
    "                colour = \"blue\") +\n",
    "  stat_function(fun = posterior,\n",
    "                args = list(sumx = 0,n = 400),\n",
    "                colour = \"orange\") +\n",
    "  labs(title = \"Prior vs Posterior for Theta in Beta Distribution, \\n\n",
    "       Choosing SAT score randomly among  400 NYC School\",\n",
    "       subtitle = \"black: Prior Purple: 300 over mean score \\n\n",
    "       Red: 200 over mean score Orange: 0 over mean score \\n\n",
    "       Green: 100 over mean score blue: 400 over mean score\",\n",
    "       x = \"Theta\",\n",
    "       y = \"Density\") +\n",
    "  scale_x_continuous(breaks = seq(0,1,by=0.1))"
   ]
  },
  {
   "cell_type": "markdown",
   "id": "befed727",
   "metadata": {
    "lines_to_next_cell": 0
   },
   "source": [
    "The black line, which is the prior distribution graph and the red graph share a similar part. The place where the prior has the peak, and the most probable, the posterior becomes more peaked around that value, which is 0.5. As the weights get more extreme, the frequentist inference becomes extreme as well.\n",
    "\n",
    "The 95% interval will be calculated for the Bayesian Credible Interval. The confidence level most commonly used is 95%. The range calculated explains uncertainty by giving a range of values on the posterior probability distribution. The range is called the 95% Bayesian credible interval (Dekking, 2005).\n",
    "\n",
    "The Bayesian Credible Interval of 95% can be calculated as: \n",
    "\n",
    "- When n = 400 and the number of School that has higher SAT score than the average is 0: (0.0147, 0.0461)"
   ]
  },
  {
   "cell_type": "code",
   "execution_count": null,
   "id": "60a7469e",
   "metadata": {
    "tags": [
     "remove_cell"
    ]
   },
   "outputs": [],
   "source": [
    "conf0 <- c(qbeta(0.025,shape1=12 + 0,shape2 = 12 + 400 - 0),qbeta(0.975,shape1=12 + 0,shape2 = 12 + 400 - 0))"
   ]
  },
  {
   "cell_type": "markdown",
   "id": "7daea6ec",
   "metadata": {
    "lines_to_next_cell": 0
   },
   "source": [
    "- When n = 400 and the number of School that has higher SAT score than the average is 100: (0.223, 0.307)"
   ]
  },
  {
   "cell_type": "code",
   "execution_count": null,
   "id": "24ceb8b6",
   "metadata": {
    "tags": [
     "remove_cell"
    ]
   },
   "outputs": [],
   "source": [
    "conf100 <- c(qbeta(0.025,shape1=12 + 100,shape2 = 12 + 400 - 100),qbeta(0.975,shape1=12 + 100,shape2 = 12 + 400 - 100))"
   ]
  },
  {
   "cell_type": "markdown",
   "id": "1491e291",
   "metadata": {
    "lines_to_next_cell": 0
   },
   "source": [
    "- When n = 400 and the number of School that has higher SAT score than the average is 200: (0.452, 0.548)"
   ]
  },
  {
   "cell_type": "code",
   "execution_count": null,
   "id": "e48d139c",
   "metadata": {
    "tags": [
     "remove_cell"
    ]
   },
   "outputs": [],
   "source": [
    "conf200 <- c(qbeta(0.025,shape1=12 + 200,shape2 = 12 + 400 - 200),qbeta(0.975,shape1=12 + 200,shape2 = 12 + 400 - 200))"
   ]
  },
  {
   "cell_type": "markdown",
   "id": "dca12fcf",
   "metadata": {
    "lines_to_next_cell": 0
   },
   "source": [
    "- When n = 400 and the number of School that has higher SAT score than the average is 300: (0.693, 0.705)"
   ]
  },
  {
   "cell_type": "code",
   "execution_count": null,
   "id": "b7f3497f",
   "metadata": {
    "tags": [
     "remove_cell"
    ]
   },
   "outputs": [],
   "source": [
    "conf300 <- c(qbeta(0.025,shape1=12 + 300,shape2 = 12 + 400 - 300),qbeta(0.975,shape1=12 + 200,shape2 = 12 + 400 - 300))"
   ]
  },
  {
   "cell_type": "markdown",
   "id": "c580a962",
   "metadata": {
    "lines_to_next_cell": 0
   },
   "source": [
    "- When n = 400 and the number of School that has higher SAT score than the average is 400: (0.954, 0.985)"
   ]
  },
  {
   "cell_type": "code",
   "execution_count": null,
   "id": "447120d8",
   "metadata": {
    "tags": [
     "remove_cell"
    ]
   },
   "outputs": [],
   "source": [
    "conf400 <- c(qbeta(0.025,shape1=12 + 400,shape2 = 12 + 400 - 400),qbeta(0.975,shape1=12 + 400,shape2 = 12 + 400 - 400))"
   ]
  },
  {
   "cell_type": "markdown",
   "id": "026dc745",
   "metadata": {
    "lines_to_next_cell": 0
   },
   "source": [
    "The 95% credible interval was all calculated with various cases. Our goal was to find the interval that has more than 200 schools that are over the mean. Therefore, the interval for 95% is (0.452, 0.548). It is near 0.5, which is 1/2 probability.  Therefore, it indicates that the probability of having half of the schools with better scores than the mean is between 0.452 and 0.548 with the confidence of 95%.\n",
    "\n",
    "The probability of having half of the schools with better scores than the mean is between 0.452 and 0.548, with the confidence of 95% given that the prior distribution was correct. However, more examination is required to see if the prior assumption was valid. In the next section, using the goodness of fit test, it will be examined.\n",
    "\n",
    "## Part 2. Goodness of Fit Test\n",
    "\n",
    "### Using the NYC Mean"
   ]
  },
  {
   "cell_type": "code",
   "execution_count": null,
   "id": "a3130d51",
   "metadata": {
    "lines_to_next_cell": 0,
    "tags": [
     "remove_cell"
    ]
   },
   "outputs": [],
   "source": [
    "count_over1 <- nrow(subset(scores_df, Total_score >= 1275.907))\n",
    "count_low1 <- nrow(subset(scores_df, Total_score < 1275.907))\n",
    "count_over1\n",
    "count_low1"
   ]
  },
  {
   "cell_type": "markdown",
   "id": "e2be582f",
   "metadata": {},
   "source": [
    "From the cleaned data, 139 schools have higher or equal to the NYC SAT mean score.\n",
    "236 schools have lower SAT scores than the NYC SAT mean score.\n",
    "From this, it looks like the mean is greater than the median and will be right-skewed."
   ]
  },
  {
   "cell_type": "code",
   "execution_count": null,
   "id": "6ccf600d",
   "metadata": {
    "tags": [
     "remove_input"
    ]
   },
   "outputs": [],
   "source": [
    "count_1 <- data.frame(school=c(\"lower\", \"higher\"),\n",
    "                count=c(236, 139))\n",
    "plot_1 <-ggplot(data=count_1, aes(x=school, y=count, fill=school)) +\n",
    "  geom_bar(stat=\"identity\")+\n",
    "  theme_minimal()\n",
    "plot_1"
   ]
  },
  {
   "cell_type": "markdown",
   "id": "0907f38d",
   "metadata": {},
   "source": [
    "The Chi-squared test will be used. Chi-square goodness of fit test determines if sample data fit the distribution. It can be used for discrete distributions, such as binomial distribution. \n",
    "\n",
    "The conducted null hypothesis is that the SAT score data comes from a binomial distribution. The alternative hypothesis is that the data does not come from a binomial distribution.\n",
    "\n",
    "The goal is to see if half of the score is higher than the mean. Therefore, the binomial distribution is used with $p=0.5$."
   ]
  },
  {
   "cell_type": "code",
   "execution_count": null,
   "id": "d29c97ea",
   "metadata": {
    "tags": [
     "remove_input"
    ]
   },
   "outputs": [],
   "source": [
    "gof1 <- chisq.test(x = c(236, 139), p = c(0.5,0.5))\n",
    "gof1"
   ]
  },
  {
   "cell_type": "markdown",
   "id": "37201950",
   "metadata": {},
   "source": [
    "The p-value is too small, which is less than the significance level (0.05), the null hypothesis is rejected. The data does not come from the binomial distribution with $p =0.5$. Therefore, there is sufficient evidence to claim that half of the SAT scores are not higher than the mean score of NYC."
   ]
  },
  {
   "cell_type": "markdown",
   "id": "a4dcc474",
   "metadata": {
    "lines_to_next_cell": 0
   },
   "source": [
    "### Using the US-wide Mean\n",
    "The US-wide SAT mean score was 1497 in 2014."
   ]
  },
  {
   "cell_type": "code",
   "execution_count": null,
   "id": "05cb4757",
   "metadata": {
    "lines_to_next_cell": 0,
    "tags": [
     "remove_cell"
    ]
   },
   "outputs": [],
   "source": [
    "count_over2 <- nrow(subset(scores_df, Total_score >= 1497))\n",
    "count_low2 <- nrow(subset(scores_df, Total_score < 1497))\n",
    "count_over2\n",
    "count_low2"
   ]
  },
  {
   "cell_type": "markdown",
   "id": "51c5ccfa",
   "metadata": {},
   "source": [
    "There are 38 schools that have higher or equal to the US-wide SAT mean score.\n",
    "There are 337 schools that have lower SAT scores than the US-wide SAT mean score.\n"
   ]
  },
  {
   "cell_type": "code",
   "execution_count": null,
   "id": "f839ecf7",
   "metadata": {
    "tags": [
     "remove_input"
    ]
   },
   "outputs": [],
   "source": [
    "count_2 <- data.frame(school=c(\"lower\", \"higher\"),\n",
    "                count=c(337, 38))\n",
    "plot_2 <-ggplot(data=count_2, aes(x=school, y=count, fill=school)) +\n",
    "  geom_bar(stat=\"identity\")+\n",
    "  theme_minimal()\n",
    "plot_2"
   ]
  },
  {
   "cell_type": "markdown",
   "id": "cb915ef5",
   "metadata": {
    "lines_to_next_cell": 0
   },
   "source": [
    "The Chi-squared test was once again used for this part to see if the data fits the binomial distribution with $p=0.5$. "
   ]
  },
  {
   "cell_type": "code",
   "execution_count": null,
   "id": "71aa4a5c",
   "metadata": {
    "lines_to_next_cell": 0,
    "tags": [
     "remove_input"
    ]
   },
   "outputs": [],
   "source": [
    "gof2 <- chisq.test(x = c(337, 38), p = c(0.5,0.5))\n",
    "gof2"
   ]
  },
  {
   "cell_type": "markdown",
   "id": "8c1b149f",
   "metadata": {
    "lines_to_next_cell": 0
   },
   "source": [
    "The p-value is extremely small, which is far less than the significance level (0.05), the null hypothesis is rejected. The data does not come from the binomial distribution with $p =0.5$. Therefore, there is sufficient evidence to claim that half of the SAT scores are not higher than the mean score US-wide.\n",
    "\n",
    "The education equity was not sufficient, while more than half of the students could not reach the mean SAT score US-wide in NYC. The schools in NYC had lower scores overall compared to the other regions in the US. The NYC education department will have to continue to work on the balance of score US-wide. Also, more than half of the students could not reach the mean SAT score of NYC. It indicates that the scores are right-skewed. The mean score is higher than the median. The more students are obtaining, the lower scores than the higher scores. Therefore, education needs to be improved for the overall NYC region.\n",
    "\n",
    "## Part 3. Hypothesis Test of the Mean\n",
    "Two regions, Bronx and Manhattan, that have more students enrolled in the NYC education compared to the other areas will be tested.\n",
    "\n",
    "The null hypothesis is that the mean of Manhattan's SAT is the same as the random Bronx's mean of SAT.$$H_0: \\mu_b = \\mu_m$$\n",
    "The alternative hypothesis is that they do not equal to each other. $$H_0: \\mu_b \\neq \\mu_m$$.\n",
    "\n",
    "The mean SAT score from each region is compared. The mean and sd of SAT scores of Bronx are 1202.724 and 150.393901\teach. The mean and sd of SAT scores of Manhattan are 1340.135 and 230.294140 each."
   ]
  },
  {
   "cell_type": "code",
   "execution_count": null,
   "id": "f6bbb250",
   "metadata": {
    "tags": [
     "remove_cell"
    ]
   },
   "outputs": [],
   "source": [
    "score_bm <- filter(scores_df, City == \"Bronx\" | City == \"Manhattan\")\n",
    "score_bm"
   ]
  },
  {
   "cell_type": "code",
   "execution_count": null,
   "id": "4d61e240",
   "metadata": {
    "tags": [
     "remove_input"
    ]
   },
   "outputs": [],
   "source": [
    "sat_smean <- group_by(score_bm, City) \n",
    "summarise(sat_smean, mean = mean(Total_score), sd=sd(Total_score), n=n())"
   ]
  },
  {
   "cell_type": "markdown",
   "id": "a5f6b16f",
   "metadata": {
    "lines_to_next_cell": 0
   },
   "source": [
    "Then, the test statistics are calculated. The test statistic is the difference between the sample mean of Bronx's SAT score and the sample mean of Manhattan's SAT score. While $H_0: \\mu_b = \\mu_m$, it can be also written as $\\mu_b - \\mu_m =0$. The test statistics is $\\bar{x_b}-\\bar{x_m}$. Using the R program, the test statistics are calculated, and the result is 137.4103."
   ]
  },
  {
   "cell_type": "code",
   "execution_count": null,
   "id": "46d895ca",
   "metadata": {
    "tags": [
     "remove_cell"
    ]
   },
   "outputs": [],
   "source": [
    "mean_score <- score_bm %>% group_by(City) %>% summarise(means = mean(Total_score))\n",
    "test_stat <- as.numeric(mean_score %>% summarise(test_stat = diff(means)))\n",
    "test_stat"
   ]
  },
  {
   "cell_type": "markdown",
   "id": "be36acaa",
   "metadata": {
    "lines_to_next_cell": 0
   },
   "source": [
    "The simulation will be done for test statistics under $H_0$. The simulation will be done using 1000 repetitions to examine how the test statistic might have looked if the null hypothesis was true. It will estimate the distribution of its possible values."
   ]
  },
  {
   "cell_type": "code",
   "execution_count": null,
   "id": "ad9df371",
   "metadata": {
    "tags": [
     "remove_cell"
    ]
   },
   "outputs": [],
   "source": [
    "set.seed(552)\n",
    "repetitions <- 1000\n",
    "simulated_values <- rep(NA, repetitions)\n",
    "\n",
    "for (i in 1:repetitions) {\n",
    "  sim <- score_bm %>% mutate (City = sample(City))\n",
    "  sim_value <- sim %>% group_by(City) %>%\n",
    "    summarize(means = mean(Total_score)) %>%\n",
    "    summarize(value=diff(means))\n",
    "  simulated_values[i] <- as.numeric(sim_value)\n",
    "}\n",
    "\n",
    "sim <- data_frame(mean_diff = simulated_values)"
   ]
  },
  {
   "cell_type": "markdown",
   "id": "fa77a6b4",
   "metadata": {
    "lines_to_next_cell": 0
   },
   "source": [
    "The simulation is done. Then, the result can be visually interpreted using the histogram data. Now, it is possible to assess evidence of the null hypothesis."
   ]
  },
  {
   "cell_type": "code",
   "execution_count": null,
   "id": "85736003",
   "metadata": {
    "tags": [
     "remove_cell"
    ]
   },
   "outputs": [],
   "source": [
    "score_bm %>% group_by(City) %>%\n",
    "  summarise(means = mean(Total_score)) %>%\n",
    "  summarise(value=diff(means))"
   ]
  },
  {
   "cell_type": "code",
   "execution_count": null,
   "id": "c1bbd277",
   "metadata": {
    "tags": [
     "remove_input"
    ]
   },
   "outputs": [],
   "source": [
    "ggplot(sim, aes(x = mean_diff)) + geom_histogram(binwidth = 10) +\n",
    "  geom_vline(xintercept= 137.4103, col=\"blue\") + geom_vline(xintercept= -137.4103, col=\"blue\") +\n",
    "  labs(x = \"Simulated differences in mean SAT scores between Bronx and Manhattan, assuming no difference in scores between two regions\") + theme(axis.text=element_text(size=10))"
   ]
  },
  {
   "cell_type": "markdown",
   "id": "a36df4de",
   "metadata": {
    "lines_to_next_cell": 0
   },
   "source": [
    "The p-value* is 1. It means that there is strong evidence that agrees with the hypothesis of no difference in mean SAT scores depending on the region."
   ]
  },
  {
   "cell_type": "code",
   "execution_count": null,
   "id": "f20d2c4a",
   "metadata": {
    "lines_to_next_cell": 0,
    "tags": [
     "remove_cell"
    ]
   },
   "outputs": [],
   "source": [
    "sim %>% filter (mean_diff >= abs(test_stat) | mean_diff >= -1*abs(test_stat)) %>% summarize(p_value = n() / repetitions)"
   ]
  },
  {
   "cell_type": "markdown",
   "id": "0adf5ad8",
   "metadata": {},
   "source": [
    "The result suggests that there is almost no difference between SAT scores of the two regions. There was no evidence found to reject the null hypothesis, where it stated the average SAT scores in the Bronx and Manhattan are the same. From this simulation, at least two cities in NYC are obtaining a similar level of education. The education department has put effort into reducing the gap between the regions in NYC.\n",
    "\n",
    "If this is not true, the type 2 error could have occurred by not rejecting the null hypothesis when the null hypothesis is false. The null hypothesis may not be true."
   ]
  },
  {
   "cell_type": "markdown",
   "id": "4f9d6ca8",
   "metadata": {
    "lines_to_next_cell": 0
   },
   "source": [
    "## Part 4. Confidence Interval\n",
    "If the education equality was successful, all the mean of NYC regions should be similar to the nationwide average score.\n",
    "\n",
    "For the first step, the bootstrap data will be generated."
   ]
  },
  {
   "cell_type": "code",
   "execution_count": null,
   "id": "84e9aa8d",
   "metadata": {
    "tags": [
     "remove_cell"
    ]
   },
   "outputs": [],
   "source": [
    "set.seed(552)\n",
    "\n",
    "boot_means <- rep(NA, 1000)\n",
    "for (i in 1:5000){\n",
    "  boot_samp <- scores_df %>% sample_n(size=100, replace=TRUE)\n",
    "  boot_means[i] <- as.numeric(boot_samp %>% summarize(mean_tscore = mean(Total_score)))\n",
    "}\n",
    "\n",
    "boot_means <- data_frame(mean_tscore = boot_means)"
   ]
  },
  {
   "cell_type": "markdown",
   "id": "e38024cb",
   "metadata": {},
   "source": [
    "A confidence level of 95%  was used for this section. It means that 95% of the intervals should contain the population mean (Dekking, 2005). A 95% confidence level for a population parameter was calculated from the previous sample data. It gives a range of plausible values for the true parameter based on the limited information provided by the sample from the population."
   ]
  },
  {
   "cell_type": "code",
   "execution_count": null,
   "id": "71aa95c4",
   "metadata": {
    "tags": [
     "remove_input"
    ]
   },
   "outputs": [],
   "source": [
    "quantile(boot_means$mean_tscore,\n",
    "         c(0.025, 0.975))"
   ]
  },
  {
   "cell_type": "code",
   "execution_count": null,
   "id": "258e0de8",
   "metadata": {
    "tags": [
     "remove_input"
    ]
   },
   "outputs": [],
   "source": [
    "ggplot(boot_means, aes(x=mean_tscore)) + geom_histogram() + labs(x=\"Bootstrap Means\", title = \"Bootstrap distribution of SAT scores in NYC\") + geom_vline(xintercept=quantile(boot_means$mean_tscore, 0.025), col=\"blue\") +\n",
    "  geom_vline(xintercept=quantile(boot_means$mean_tscore, 0.975), col=\"blue\") + theme_set(theme_gray(base_size = 10))"
   ]
  },
  {
   "cell_type": "markdown",
   "id": "157882f1",
   "metadata": {},
   "source": [
    "The results can be interpreted as that we are 95% confident that the mean of the SAT score is between 1240.779 and 1315.121. However, the US's population average in total was 1497 in the same school year (Anderson, 2014). Overall, NYC is behind the entire education level in the US. They should work on education equality more for the students in all NYC regions to obtain a better education.\n",
    "\n",
    "## Part 5. Maximum Likelihood Estimator Calculation\n",
    "\n",
    "First, the given data will be visualized in the histogram. All the scores will be graphed."
   ]
  },
  {
   "cell_type": "code",
   "execution_count": null,
   "id": "dfcaa356",
   "metadata": {
    "tags": [
     "remove_input"
    ]
   },
   "outputs": [],
   "source": [
    "scores_df %>%\n",
    "  ggplot(aes(x = Total_score)) +\n",
    "  theme_classic() +\n",
    "  geom_histogram(binwidth = 30)+\n",
    "  scale_x_continuous() +\n",
    "  labs(title = \"Distribution of the SAT Score in NYC\")\n"
   ]
  },
  {
   "cell_type": "markdown",
   "id": "8ab7c007",
   "metadata": {
    "lines_to_next_cell": 0
   },
   "source": [
    "The graph looks like a normal distribution. It is right-skewed, but it is unimodal that most of the school's SAT score is distributed between 1000 and 1500. Therefore, the assumption will be made that the score of SAT data follows the normal distribution.\n",
    "\n",
    "The parameter or the normal distribution is $$x \\sim N(1275.907, 194.9063^2)$$\n",
    "The mean and the variance were obtained in the previous (`data`) section.\n",
    "\n",
    "* MLE formula derivation is included in the Appendix.\n",
    "\n",
    "The normal distribution has the maximum likelihood's sd when: $$\\sigma^2=\\frac{1}{n}\\sum_{i=1}^n(X_i - \\mu)^2$$\n",
    "The normal distribution has the maximum likelihood's mean when:\n",
    "$$\\hat{\\mu_j} = \\frac{1}{n_j} \\sum_{i=1}^{n_j}(X_{ij})$$\n",
    "\n",
    "Using the parameters given as $x \\sim N(1275.907, 194.9063^2)$.\n",
    "\n",
    "Therefore, the MLE (maximum likelihood estimator)'s mean is 1275.907, and the standard deviation is `194.9063^2` for the normal distribution.\n",
    "\n",
    "Therefore, the SAT score is most likely to occur at the mean of 1275.907 with a standard deviation of 194.9036. The mean of NYC is slightly lower than the worldwide SAT average score, which was 1497. The standard deviation was relatively high as well, meaning there are gaps between schools. Therefore, the department of education should aim to reduce the gap and push the overall NYC public school quality for overall better results.\n",
    "\n",
    "## Part 6. Linear Regression Method\n",
    "\n",
    "### White Students \n",
    "The chart indicates the summary of linear regression and introduces the expected intercepts *. "
   ]
  },
  {
   "cell_type": "code",
   "execution_count": null,
   "id": "95090f4d",
   "metadata": {
    "lines_to_next_cell": 0,
    "tags": [
     "remove_input"
    ]
   },
   "outputs": [],
   "source": [
    "sat_score <- lm(Total_score ~ `Percent White`, data = scores_df)\n",
    "summary(sat_score)$coefficients"
   ]
  },
  {
   "cell_type": "markdown",
   "id": "eec7925d",
   "metadata": {
    "lines_to_next_cell": 0
   },
   "source": [
    "It can now be represented in the graph visually with the linear regression line. It has a positive relation, where the slope is positive. It indicates that the more White students in the school, the higher the SAT average is."
   ]
  },
  {
   "cell_type": "code",
   "execution_count": null,
   "id": "03f798dc",
   "metadata": {
    "tags": [
     "remove_input"
    ]
   },
   "outputs": [],
   "source": [
    "scores_df %>% ggplot(aes(x = `Percent White`, y = Total_score)) + geom_point() + geom_smooth(method=\"lm\", se=FALSE) + theme_minimal()"
   ]
  },
  {
   "cell_type": "markdown",
   "id": "2369385b",
   "metadata": {
    "lines_to_next_cell": 0
   },
   "source": [
    "With similar steps, the test for the other races will be done.\n",
    "### Black Students "
   ]
  },
  {
   "cell_type": "code",
   "execution_count": null,
   "id": "5de03680",
   "metadata": {
    "lines_to_next_cell": 0,
    "tags": [
     "remove_input"
    ]
   },
   "outputs": [],
   "source": [
    "sat_score <- lm(Total_score ~ `Percent Black`, data = scores_df)\n",
    "summary(sat_score)$coefficients"
   ]
  },
  {
   "cell_type": "markdown",
   "id": "ee2a85ef",
   "metadata": {
    "lines_to_next_cell": 0
   },
   "source": [
    "The slope is slightly negative. Therefore, the more Black students there are, the average SAT score tended to be lower."
   ]
  },
  {
   "cell_type": "code",
   "execution_count": null,
   "id": "42f523e0",
   "metadata": {
    "tags": [
     "remove_input"
    ]
   },
   "outputs": [],
   "source": [
    "scores_df %>% ggplot(aes(x = `Percent Black`, y = Total_score)) + geom_point() + geom_smooth(method=\"lm\", se=FALSE) + theme_minimal()"
   ]
  },
  {
   "cell_type": "markdown",
   "id": "cc2e333b",
   "metadata": {
    "lines_to_next_cell": 0
   },
   "source": [
    "### Hispanic Students "
   ]
  },
  {
   "cell_type": "code",
   "execution_count": null,
   "id": "81a9b2a7",
   "metadata": {
    "lines_to_next_cell": 0,
    "tags": [
     "remove_input"
    ]
   },
   "outputs": [],
   "source": [
    "sat_score <- lm(Total_score ~ `Percent Hispanic`, data = scores_df)\n",
    "summary(sat_score)$coefficients"
   ]
  },
  {
   "cell_type": "markdown",
   "id": "7043893b",
   "metadata": {
    "lines_to_next_cell": 0
   },
   "source": [
    "The slope is steep negative. Therefore, the more Hispanic students there are, the average SAT score tended to be lower. The score decreases at a faster rate than Black students."
   ]
  },
  {
   "cell_type": "code",
   "execution_count": null,
   "id": "9a1e1a57",
   "metadata": {
    "tags": [
     "remove_input"
    ]
   },
   "outputs": [],
   "source": [
    "scores_df %>% ggplot(aes(x = `Percent Hispanic`, y = Total_score)) + geom_point() + geom_smooth(method=\"lm\", se=FALSE) + theme_minimal()"
   ]
  },
  {
   "cell_type": "markdown",
   "id": "21a1ae09",
   "metadata": {
    "lines_to_next_cell": 0
   },
   "source": [
    "### Asian Students "
   ]
  },
  {
   "cell_type": "code",
   "execution_count": null,
   "id": "f475d4a9",
   "metadata": {
    "lines_to_next_cell": 0,
    "tags": [
     "remove_input"
    ]
   },
   "outputs": [],
   "source": [
    "sat_score <- lm(Total_score ~ `Percent Asian`, data = scores_df)\n",
    "summary(sat_score)$coefficients"
   ]
  },
  {
   "cell_type": "markdown",
   "id": "6c937b8d",
   "metadata": {
    "lines_to_next_cell": 0
   },
   "source": [
    "The slope is strongly negative. Therefore, the more Asian students there are, the average SAT score tended to be higher."
   ]
  },
  {
   "cell_type": "code",
   "execution_count": null,
   "id": "1a4125cd",
   "metadata": {
    "tags": [
     "remove_input"
    ]
   },
   "outputs": [],
   "source": [
    "scores_df %>% ggplot(aes(x = `Percent Asian`, y = Total_score)) + geom_point() + geom_smooth(method=\"lm\", se=FALSE) + theme_minimal()"
   ]
  },
  {
   "cell_type": "markdown",
   "id": "6d1c9ad1",
   "metadata": {},
   "source": [
    "From the result of linear regression, the education levelling has not done a great job of reducing the education gap between the races. The slopes were either positive or negative, that the SAT average score distribution was highly dependent on the racial demographics. From this section, the conclusion is that the improvement in NYC education is still required.\n",
    "\n",
    "# Conclusion\n",
    "\n",
    "The project's goal was to examine if NYC had improved on education equity for all the students who attend the public school in NYC. The evaluation was done with the average scores of SAT from public school. Some schools did not provide enough information for the entire SAT average score. Therefore, they were not considered in the data. The null hypothesis that education's equity is accomplished, various methods were used to test the hypothesis.\n",
    "\n",
    "## Results and Weakness\n",
    "The first method was the Bayesian Credible interval with a confidence of 95%. The goal was to find the interval that has more than 200 schools that are over the mean. Therefore, the interval for 95% is (0.452, 0.548). The probability of having half of the schools with higher scores than the mean is between 0.452 and 0.548. However, the method's weakness is that the assumption was made that the prior distribution was beta distribution without the exact prove. This result may not be exact, while the strong assumption for prior distribution was made. According to this method's result, NYC seems to accomplished education equity in 2014-15.\n",
    "\n",
    "The second method was the goodness of fit test. The actual data was used to examine if the data fit the binomial distribution, with the probability of $\\frac{1}{2}$. The mean of SAT US-wide was used to see the overall NYC performance compared to the other regions outside NYC. The mean of NYC's SAT score was used to know the education distribution within NYC. The Chi-squared test was being used in the section. The conducted null hypothesis is that the SAT score data comes from a binomial distribution. The alternative hypothesis is that the data does not come from a binomial distribution. Therefore, NYC did not perform enough to satisfy the overall education equity.\n",
    "\n",
    "The third method was the hypothesis test of the mean. The mean of Manhattan was compared with the school in Bronx's mean score. The null hypothesis was that the mean of Manhattan's SAT is the same as the random Bronx's mean of SAT $H_0: \\mu_b = \\mu_m$. The alternative hypothesis was that they do not equal to each other. $H_0: \\mu_b \\neq \\mu_m$. There was no evidence found to reject the null hypothesis because the p-value was significantly large. It indicates that the average SAT scores in the Bronx and Manhattan are the same (similar). From this simulation, it can be found that at least two cities in NYC are obtaining a similar level of education. The weakness is that the results of a hypothesis test are based on probabilities.  For example, the null hypothesis was not rejected in this section. However, if the simulation could be biased and not representative of the population, then simulated data may not represent the population, which may cause type 2 error.\n",
    "\n",
    "The fourth method was the confidence interval. The empirical bootstrap method was used. It drew 1000 bootstrap samples of size n with replacement from the original SAT score sample. The confidence interval of 95% was that the mean of the SAT score is between 1240.779 and 1315.121. However, the population average of the US in total was 1497 in the same school year (Anderson, 2014). The whole confidence interval is below the US total mean. Therefore, NYC overall has a lower score of SAT. The weakness is that the test does not produce a numeric measure of the degree of significance and indicates whether P is more or less than 0.05. Also, bootstrapping depends on the representative sample. If the sample schools had a biased score, likely, the result is also biased.\n",
    "\n",
    "The fifth method was maximum likelihood estimator calculation. The assumption was that if equity has been successfully accomplished, there will be a normal distribution of the SAT score. The likelihood function and the maximum likelihood estimator were found using the normal distribution. The SAT score is most likely to occur at the mean of 1275.907. The mean of NYC is slightly lower than the worldwide SAT average score, which was 1497. Thus, the department of education in NYC should increase the quality of education of the overall NYC public school for overall better results. The weakness was that the distribution was estimated as the normal distribution, which may not be correct. If the distribution set was wrong, the entire calculation might be wrong. Therefore, choosing the density function carefully would be the most crucial step for an accurate result.\n",
    "\n",
    "The last method was the linear regression method. It was used to examine the race demographics. If the race's score is affected, it would have a positive or negative slope rather than a flat slope. As a result, the slopes of scores in all the races were either positive or negative, that the SAT average score distribution was highly dependent on the racial demographics. Therefore, the equity of education in the race was not accomplished yet in NYC. The weakness of this method is assuming the linearity between the dependent variable and the independent variables. They may have a non-linear relationship. Therefore, it might sometimes lead to making the incorrect or irrelevant relation.\n",
    "\n",
    "## Next Steps\n",
    "NYC Department of education should adjust the policy first while the current results did not satisfy the education equity. In the future, after adjusting the education policy, the data from the same schools can be collected again. It would be best to have a term of 2 years so that the new education can settle down and be effective in students' performance. Then, using the same six methods, the tests can be conducted again. The analysis can be done in precisely the same way how it was done this project. If it indicates that NYC has overall the better mean and no gaps between the regions, it can be considered that the new policy was more helpful than the current policy. Then, it should keep going with the new guidelines. However, if the results worsen, NYC should decide to return to the current policy or make improvements once again."
   ]
  },
  {
   "cell_type": "markdown",
   "id": "78d74e28",
   "metadata": {},
   "source": [
    "## Discussion \n",
    "Overall, NYC did not accomplish the education equity enough. Therefore, the NYC education department will need a better policy for a higher quality of education. NYC should aim to reduce the difference of score due to the racial disparity. The racial demographic should not affect the quality of the education that the students can get. Also, the overall NYC education quality should be improved. It would be best to have a similar mean with the overall US-wide SAT score. The gap between the NYC mean and the US-wide mean should be reduced. Lastly, the gap within the NYC region should be reduced. Even though the two largest cities, Manhattan and Bronx, did not have differences, the improvements should continue to be made so that all the cities do not have differences in education quality. While having the education is all students' right, it would be best to provide a high quality of education."
   ]
  },
  {
   "cell_type": "markdown",
   "id": "c13675bd",
   "metadata": {},
   "source": [
    "# Bibliography\n",
    "\n",
    "1. Anderson, A (October 7, 2014). *SAT scores for Class of 2014 show no improvement from previous marks*. The Washington Post. https://www.washingtonpost.com/local/education/sat-scores-for-class-of-2014-show-no-improvement-from-previous-marks/2014/10/06/80beb554-4d5b-11e4-aa5e-7153e466a02d_story.html\n",
    "\n",
    "2. Conely, J. (November 25, 2019). *NYC Students Strike to Demand Racial Equity in Nation's Largest—and Most Segregated—School District*. Common Dreams. https://www.commondreams.org/news/2019/11/25/nyc-students-strike-demand-racial-equity-nations-largest-and-most-segregated-school\n",
    "\n",
    "3. Dekking, F. M., et al. (2005) *A Modern Introduction to Probability and Statistics: Understanding why and how.* Springer Science & Business Media.\n",
    "\n",
    "4. Gibbs, A and Stringer, A (January 20, 2021). *Probability, Statistics, and Data Analysis*. Github. https://awstringer1.github.io/sta238-book/index.html\n",
    "\n",
    "5. Khandelwal, A. (March 15, 2021). *Planning to study in the US? The SATs have changed and this is what it means for you*. The Economic Times. https://economictimes.indiatimes.com/nri/study/planning-to-study-in-the-us-the-sats-have-changed-and-this-is-what-it-means-for-you/articleshow/81323605.cms\n",
    "\n",
    "6. NYC Open Data. (2017). *Average SAT Scores for NYC Public Schools*. Kaggle. https://www.kaggle.com/nycopendata/high-schools\n",
    "\n",
    "7. Reeves, R and Halikias, D (February 1, 2017). *Race gaps in SAT scores highlight inequality and hinder upward mobility*. Brookings. https://www.brookings.edu/research/race-gaps-in-sat-scores-highlight-inequality-and-hinder-upward-mobility/\n",
    "\n",
    "8. Schalkwyk G.J. (2011) *Scholastic Aptitude Test. In: Kreutzer J.S., DeLuca J., Caplan B. (eds) Encyclopedia of Clinical Neuropsychology*. Springer, New York, NY. https://doi.org/10.1007/978-0-387-79948-3_1487"
   ]
  },
  {
   "cell_type": "markdown",
   "id": "5936cb2e",
   "metadata": {},
   "source": [
    "# Appendix\n",
    "\n",
    "## Calculating a,b for beta distribution\n",
    "Before looking at the actual data, we assumed that at least half of the students could get a more outstanding grade than the mean. Also, the other half of the students can get a lower grade than the mean SAT score. \n",
    "\n",
    "Therefore, it is equally likely to pick a school that is a school with a \"good quality\" of education or a school with an \"unsatisfying quality\" of education.\n",
    "However, it cannot be precisely 0.5 of probability. The assumption is that the parameter $\\theta$ is between 0.3 and 0.7. While the mean is 0.5, the expectation and the variance can be calculated.\n",
    "\n",
    "The expectation is 0.5, and the variance is 0.01, where the standard deviation is 0.1.\n",
    "\n",
    "The formula for finding the expectation in beta distribution is:\n",
    "$$E(\\theta) = \\frac{a}{a+b}$$ While the expectation is calculated, the equation can be written as: $$E(\\theta) = \\frac{a}{a+b} =0.5$$ (Gibbs and Stringer, 2021).\n",
    "The formula for finding the variance in beta distribution is:\n",
    "$$Var(\\theta) = \\frac{ab}{(a+b)^2 (a+b+1)}$$ While the expectation is calculated, the equation can be written as: $$Var(\\theta) = \\frac{ab}{(a+b)^2 (a+b+1)}=0.1^2$$ (Gibbs and Stringer, 2021).\n",
    "\n",
    "To find a and b, the 2 equations will be used.\n",
    "The variance equation is divided into two:\n",
    "$$\\frac{a}{a+b} \\frac{b}{(a+b)(a+b+1)}=0.1^2$$\n",
    "While $$\\frac{a}{a+b} =0.5$$, it can be substituted.\n",
    "$$0.5 \\frac{b}{(a+b)(a+b+1)}=0.1^2$$\n",
    "$$\\frac{b}{(a+b)(a+b+1)}=0.02$$\n",
    "From the expectation formula,\n",
    "$$\\frac{a}{a+b} =0.5$$\n",
    "$$a =0.5(a+b)$$ $$a =0.5a+0.5b$$ $$0.5a=0.5b$$ $$a=b$$\n",
    "Lastly, substituting $a=b$, the equation can be solved as:\n",
    "$$\\frac{a}{(a+a)^ (a+a+1)}=0.02$$\n",
    "$$\\frac{a}{(2a)^ (2a+1)}=0.02$$\n",
    "$$\\frac{a}{4a^2+2a}=0.02$$\n",
    "$$a=0.08a^2+0.04a$$\n",
    "$$0.08a^2=0.96a$$\n",
    "$$a=12, b=12$$\n",
    "Therefore, the parameter of the beta equation is (12,12)"
   ]
  },
  {
   "cell_type": "markdown",
   "id": "9ee9b73b",
   "metadata": {},
   "source": [
    "## Posterior Distribution from Beta Prior Distribution\n",
    "The prior beta distribution has the density of:\n",
    "$$p(\\theta) = \\frac{\\Gamma(a+b)}{\\Gamma(a)\\Gamma(b)}\\theta^{(a-1)} (1-\\theta)^{(b-1)}$$ (Gibbs and Stringer, 2021)\n",
    "The likelihood function is:\n",
    "$$p(X|\\theta)=\\theta^{\\sum_{i=1}^n x_i} (1-\\theta)^{(n-\\sum_{i=1}^n x_i)}$$\n",
    "\n",
    "Using Bayes' Rule, the posterior distribution of beta prior distribution can be found using this eqution:\n",
    "$$P(\\theta|X) = \\frac{P(X|\\theta)P(\\theta)}{P(X)}$$\n",
    "$$P(\\theta|X) = \\frac{P(X|\\theta)P(\\theta)}{\\int_0^1 P(X|\\theta)P(\\theta) d\\theta}$$\n",
    "From the above equation, $P(X) = \\int_0^1 P(X|\\theta)P(\\theta) d\\theta$\n",
    "Therefore, \n",
    " $$P(X)= \\int_0^1 \\theta^{\\sum_{i=1}^n x_i} (1-\\theta)^{(n-\\sum_{i=1}^n x_i)}\\frac{\\Gamma(a+b)}{\\Gamma(a)\\Gamma(b)}\\theta^{(a-1)} (1-\\theta)^{(b-1)}$$\n",
    " $$p(X)= \\int_0^1 \\theta^{\\sum_{i=1}^n x_i +a-1} (1-\\theta)^{(n-\\sum_{i=1}^n x_i+ b-1)} d\\theta \\frac{\\Gamma(a+b)}{\\Gamma(a)\\Gamma(b)} $$\n",
    " $$p(X)= \\frac{\\Gamma({\\sum_{i=1}^n x_i +a) \\Gamma(n-\\sum_{i=1}^n x_i+b)}}{\\Gamma(n+a+b)} \\frac{\\Gamma(a+b)}{\\Gamma(a)\\Gamma(b)} $$\n",
    "\n",
    "Putting them altogher to find the posterior using Bayes' Rule,\n",
    "$$P(\\theta|X) = \\frac{P(X|\\theta)P(\\theta)}{\\int_0^1 P(X|\\theta)P(\\theta) d\\theta}$$\n",
    "$$P(\\theta|X) = \\frac{\\theta^{\\sum_{i=1}^n x_i} (1-\\theta)^{(n-\\sum_{i=1}^n x_i)}\\frac{\\Gamma(a+b)}{\\Gamma(a)\\Gamma(b)}\\theta^{(a-1)} (1-\\theta)^{(b-1)}}{\\frac{\\Gamma(a+b)}{\\Gamma(a)\\Gamma(b)} \\frac{\\Gamma({\\sum_{i=1}^n x_i +a) \\Gamma(n-\\sum_{i=1}^n x_i+b)}}{\\Gamma(n+a+b)}}$$\n",
    "After cleaning the equation, the equation is:\n",
    "$$P(\\theta|X) = \\frac{\\Gamma(n+a+b)}{\\Gamma({\\sum_{i=1}^n x_i +a) \\Gamma(n-\\sum_{i=1}^n x_i+b)}}\\theta^{\\sum_{i=1}^n x_i +a-1} (1-\\theta)^{(n-\\sum_{i=1}^n x_i+ b-1)}$$\n",
    "It seems complicated. However, looking at the structure of the equation, it looks similar to the beta distribution again.\n",
    "The parameter, $a = a+\\sum_{i=1}^n x_i$ and $b = b+n-\\sum_{i=1}^n x_i$\n",
    "Therefore, the posterior distribution is: $Beta(a+\\sum_{i=1}^n x_i, b+n-\\sum_{i=1}^n x_i)$\n"
   ]
  },
  {
   "cell_type": "markdown",
   "id": "34a8ac46",
   "metadata": {},
   "source": [
    "## MLE Derivation for Normal Distribution\n",
    "The probability density function of normal distribution is: $$f(x) = \\frac{1}{\\sigma\\sqrt{2\\pi}} \n",
    "  \\exp\\left( -\\frac{1}{2}\\left(\\frac{x-\\mu}{\\sigma}\\right)^{\\!2}\\,\\right)$$\n",
    "The likelihood function of normal distribution is identified: $$L(\\mu, \\sigma^2) = f(x_1)f(x_2)...f(x_n)$$ \n",
    "$$L(\\mu, \\sigma^2) = \\frac{1}{\\sigma\\sqrt{2\\pi}} \n",
    "  \\exp\\left( -\\frac{1}{2}\\left(\\frac{x_1-\\mu}{\\sigma}\\right)^{\\!2}\\,\\right) \\frac{1}{\\sigma\\sqrt{2\\pi}} \n",
    "  \\exp\\left( -\\frac{1}{2}\\left(\\frac{x_2-\\mu}{\\sigma}\\right)^{\\!2}\\,\\right)...\\frac{1}{\\sigma\\sqrt{2\\pi}} \n",
    "  \\exp\\left( -\\frac{1}{2}\\left(\\frac{x_n-\\mu}{\\sigma}\\right)^{\\!2}\\,\\right)$$\n",
    "$$L(\\mu, \\sigma^2) = \\frac{1}{\\sigma^n\\sqrt{2^2\\pi^2}}\n",
    "  \\exp\\left( -\\frac{1}{2\\sigma^2}(\\sum_{i=1}^n(X_i - \\mu)^2)\\,\\right) $$\n",
    "Then, the loglikelihood is found for a more straightforward derivative calculation.\n",
    "$$ln(f_{\\mu, \\sigma^2}) = ln(\\frac{1}{\\sigma^n\\sqrt{2^2\\pi^2}}\n",
    "  \\exp\\left( -\\frac{1}{2\\sigma^2}(\\sum_{i=1}^n(X_i - \\mu)^2)\\,\\right)) $$ \n",
    "$$l({\\mu, \\sigma^2}) = -ln({\\sigma^n\\sqrt{2^2\\pi^2}}) + ln(\\exp\\left( -\\frac{1}{2\\sigma^2}(\\sum_{i=1}^n(X_i - \\mu)^2)\\,\\right)$$ \n",
    "$$l({\\mu, \\sigma^2}) =-ln({\\sigma^n2^\\frac{n}{2}\\pi^\\frac{n}{2}}) + \\left( -\\frac{1}{2\\sigma^2}(\\sum_{i=1}^n(X_i - \\mu)^2)\\,\\right)$$ \n",
    "$$l({\\mu, \\sigma^2}) = \\frac{-n}{2}ln{\\sigma^2} - \\frac{n}{2}ln(2\\pi) - \\left( \\frac{1}{2\\sigma^2}(\\sum_{i=1}^n(X_i - \\mu)^2)\\,\\right)$$\n",
    "The derivative was found to find the maximum.\n",
    "$$\\frac{\\partial l}{\\partial \\sigma^2} = \\frac{-n}{\\sigma^2}+\\frac{1}{\\sigma^4}(\\sum_{i=1}^n(X_i - \\mu)^2)$$ \n",
    "The maximum may exist when the result of derivative equals zero.\n",
    "$$\\frac{\\partial l}{\\partial \\sigma^2} = 0$$ $$\\frac{-n}{\\sigma^2}+\\frac{1}{\\sigma^4}(\\sum_{i=1}^n(X_i - \\mu)^2) = 0$$ $$\\frac{-n}{{(\\sigma^2)}^2}(\\sigma^2-\\frac{1}{n}\\sum_{i=1}^n(X_i - \\mu)^2)=0$$ $$\\sigma^2=\\frac{1}{n}\\sum_{i=1}^n(X_i - \\mu)^2$$\n",
    "The maximum likelihood for the normal distribution is equal to the variance.\n",
    "\n",
    "The second derivative test was used to prove if it is the maximum value because it can also be minimum when the derivative equals zero.\n",
    "$$\\frac{\\partial^2 l}{\\partial (\\sigma^2)^2} = \\frac{n}{(\\sigma^2)^2} - \\frac{2}{(\\sigma^2)^3}(\\sum_{i=1}^n(X_i - \\mu)^2)$$\n",
    "$$\\frac{\\partial^2 l}{\\partial (\\sigma^2)^2} = \\frac{n}{(\\sigma^2)^2}(1-\\frac{2}{\\sigma^2}\\frac{1}{n}\\sum_{i=1}^n(X_i - \\mu)^2) $$\n",
    "Since $\\frac{1}{n}\\sum_{i=1}^n(X_i - \\mu)^2 = \\hat\\sigma^2$:\n",
    "$$\\frac{\\partial^2 l}{\\partial (\\sigma^2)^2} = \\frac{n}{(\\sigma^2)^2}(1-\\frac{2}{\\sigma^2}\\hat\\sigma^2)$$\n",
    "$$\\frac{\\partial^2 l}{\\partial (\\sigma^2)^2} = \\frac{n}{(\\sigma^2)^2}(1-2)$$\n",
    "$$\\frac{\\partial^2 l}{\\partial (\\sigma^2)^2} = \\frac{n}{(\\sigma^2)^2}(-1)$$\n",
    "While $n>0$ and $(\\sigma^2)^2>0$: $$\\frac{\\partial^2 l}{\\partial (\\sigma^2)^2}<0$$\n",
    "The second derivative was negative at the maximum likelihood. Therefore, the graph of the likelihood was concave down at the point, which makes the maximum likelihood.\n",
    "\n",
    "## Linear Regression\n",
    "Linear regression assumes the best linear line along the numerous data points. It is assumed that the independent variables are nonrandom and dependent variable values are realization of random variables. $U_i$ is the indendent random variables with $E[U_i]=0$ and $Var(U_i)=\\sigma^2$ (Dekking, 2005)\n",
    "In equation, it can be written as: $$Y_i = \\alpha + \\beta x_i + U_i$$\n",
    "$\\alpha$ is a intercept parameter. $\\beta$ is a slope parameter\n",
    "\n",
    "Regression Coefficients:\n",
    "Estimte is the value of $\\hat{\\beta}$. The Std. Error represent the estimated standard deviation of $\\hat{\\beta}$. The t value is the number of $\\hat{\\beta}$ is away from 0. Pr(>|t|) is the p-value for a hypotheis test of $H_0$ vs. $H_A$. \n",
    "\n",
    "## P-values\n",
    "The p-value is the probability of obtaining results at least as extreme as the observed results of a statistical hypothesis test, assuming that the null hypothesis is correct. A smaller p-value means that there is stronger evidence in favor of the alternative hypothesis (Dekking, 2005).\n"
   ]
  }
 ],
 "metadata": {
  "jupytext": {
   "cell_metadata_filter": "tags,name,-all",
   "notebook_metadata_filter": "-all",
   "text_representation": {
    "extension": ".Rmd",
    "format_name": "rmarkdown"
   }
  },
  "kernelspec": {
   "display_name": "R",
   "language": "R",
   "name": "ir"
  }
 },
 "nbformat": 4,
 "nbformat_minor": 5
}
